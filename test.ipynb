{
 "cells": [
  {
   "cell_type": "code",
   "execution_count": null,
   "metadata": {},
   "outputs": [],
   "source": []
  },
  {
   "cell_type": "code",
   "execution_count": 81,
   "metadata": {},
   "outputs": [],
   "source": [
    "import torch\n",
    "from torch import nn\n",
    "from functools import partial\n",
    "import einops\n",
    "import matplotlib.pyplot as plt\n",
    "\n",
    "from typing import Tuple"
   ]
  },
  {
   "cell_type": "code",
   "execution_count": null,
   "metadata": {},
   "outputs": [],
   "source": [
    "class SinusoidalPositionEmbeddings(nn.Module):\n",
    "    def __init__(self, dim):\n",
    "        super().__init__()\n",
    "        self.dim = dim\n",
    "\n",
    "    def forward(self, time):\n",
    "        device = time.device\n",
    "        half_dim = self.dim // 2\n",
    "        embeddings = torch.log(torch.tensor(1e2)) / (half_dim - 1)\n",
    "        embeddings = torch.exp(torch.arange(half_dim, device=device) * -embeddings)\n",
    "        embeddings = time[:, None] * embeddings[None, :]\n",
    "        embeddings = torch.cat((embeddings.sin(), embeddings.cos()), dim=-1)\n",
    "        return embeddings"
   ]
  },
  {
   "cell_type": "code",
   "execution_count": 90,
   "metadata": {},
   "outputs": [
    {
     "name": "stdout",
     "output_type": "stream",
     "text": [
      "pos_embedding: torch.Size([1024, 128])\n"
     ]
    },
    {
     "ename": "ValueError",
     "evalue": "label must be scalar or have the same length as the input data, but found 1024 for 128 datasets.",
     "output_type": "error",
     "traceback": [
      "\u001b[0;31m---------------------------------------------------------------------------\u001b[0m",
      "\u001b[0;31mValueError\u001b[0m                                Traceback (most recent call last)",
      "Cell \u001b[0;32mIn[90], line 41\u001b[0m\n\u001b[1;32m     38\u001b[0m     labels\u001b[39m.\u001b[39mappend(\u001b[39mf\u001b[39m\u001b[39m\"\u001b[39m\u001b[39m(\u001b[39m\u001b[39m{\u001b[39;00mi\u001b[39m}\u001b[39;00m\u001b[39m, \u001b[39m\u001b[39m{\u001b[39;00mj\u001b[39m}\u001b[39;00m\u001b[39m)\u001b[39m\u001b[39m\"\u001b[39m)\n\u001b[1;32m     40\u001b[0m plt\u001b[39m.\u001b[39mfigure(figsize\u001b[39m=\u001b[39m(\u001b[39m20\u001b[39m, \u001b[39m3\u001b[39m))\n\u001b[0;32m---> 41\u001b[0m plt\u001b[39m.\u001b[39;49mplot(pos_embedding, label\u001b[39m=\u001b[39;49mlabels)\n\u001b[1;32m     42\u001b[0m \u001b[39m# plt.legend()\u001b[39;00m\n\u001b[1;32m     43\u001b[0m \n\u001b[1;32m     44\u001b[0m \u001b[39m# plt.imshow(res)\u001b[39;00m\n\u001b[1;32m     45\u001b[0m \u001b[39mNone\u001b[39;00m\n",
      "File \u001b[0;32m~/.local/lib/python3.8/site-packages/matplotlib/pyplot.py:2812\u001b[0m, in \u001b[0;36mplot\u001b[0;34m(scalex, scaley, data, *args, **kwargs)\u001b[0m\n\u001b[1;32m   2810\u001b[0m \u001b[39m@_copy_docstring_and_deprecators\u001b[39m(Axes\u001b[39m.\u001b[39mplot)\n\u001b[1;32m   2811\u001b[0m \u001b[39mdef\u001b[39;00m \u001b[39mplot\u001b[39m(\u001b[39m*\u001b[39margs, scalex\u001b[39m=\u001b[39m\u001b[39mTrue\u001b[39;00m, scaley\u001b[39m=\u001b[39m\u001b[39mTrue\u001b[39;00m, data\u001b[39m=\u001b[39m\u001b[39mNone\u001b[39;00m, \u001b[39m*\u001b[39m\u001b[39m*\u001b[39mkwargs):\n\u001b[0;32m-> 2812\u001b[0m     \u001b[39mreturn\u001b[39;00m gca()\u001b[39m.\u001b[39;49mplot(\n\u001b[1;32m   2813\u001b[0m         \u001b[39m*\u001b[39;49margs, scalex\u001b[39m=\u001b[39;49mscalex, scaley\u001b[39m=\u001b[39;49mscaley,\n\u001b[1;32m   2814\u001b[0m         \u001b[39m*\u001b[39;49m\u001b[39m*\u001b[39;49m({\u001b[39m\"\u001b[39;49m\u001b[39mdata\u001b[39;49m\u001b[39m\"\u001b[39;49m: data} \u001b[39mif\u001b[39;49;00m data \u001b[39mis\u001b[39;49;00m \u001b[39mnot\u001b[39;49;00m \u001b[39mNone\u001b[39;49;00m \u001b[39melse\u001b[39;49;00m {}), \u001b[39m*\u001b[39;49m\u001b[39m*\u001b[39;49mkwargs)\n",
      "File \u001b[0;32m~/.local/lib/python3.8/site-packages/matplotlib/axes/_axes.py:1688\u001b[0m, in \u001b[0;36mAxes.plot\u001b[0;34m(self, scalex, scaley, data, *args, **kwargs)\u001b[0m\n\u001b[1;32m   1445\u001b[0m \u001b[39m\u001b[39m\u001b[39m\"\"\"\u001b[39;00m\n\u001b[1;32m   1446\u001b[0m \u001b[39mPlot y versus x as lines and/or markers.\u001b[39;00m\n\u001b[1;32m   1447\u001b[0m \n\u001b[0;32m   (...)\u001b[0m\n\u001b[1;32m   1685\u001b[0m \u001b[39m(``'green'``) or hex strings (``'#008000'``).\u001b[39;00m\n\u001b[1;32m   1686\u001b[0m \u001b[39m\"\"\"\u001b[39;00m\n\u001b[1;32m   1687\u001b[0m kwargs \u001b[39m=\u001b[39m cbook\u001b[39m.\u001b[39mnormalize_kwargs(kwargs, mlines\u001b[39m.\u001b[39mLine2D)\n\u001b[0;32m-> 1688\u001b[0m lines \u001b[39m=\u001b[39m [\u001b[39m*\u001b[39m\u001b[39mself\u001b[39m\u001b[39m.\u001b[39m_get_lines(\u001b[39m*\u001b[39margs, data\u001b[39m=\u001b[39mdata, \u001b[39m*\u001b[39m\u001b[39m*\u001b[39mkwargs)]\n\u001b[1;32m   1689\u001b[0m \u001b[39mfor\u001b[39;00m line \u001b[39min\u001b[39;00m lines:\n\u001b[1;32m   1690\u001b[0m     \u001b[39mself\u001b[39m\u001b[39m.\u001b[39madd_line(line)\n",
      "File \u001b[0;32m~/.local/lib/python3.8/site-packages/matplotlib/axes/_base.py:311\u001b[0m, in \u001b[0;36m_process_plot_var_args.__call__\u001b[0;34m(self, data, *args, **kwargs)\u001b[0m\n\u001b[1;32m    309\u001b[0m     this \u001b[39m+\u001b[39m\u001b[39m=\u001b[39m args[\u001b[39m0\u001b[39m],\n\u001b[1;32m    310\u001b[0m     args \u001b[39m=\u001b[39m args[\u001b[39m1\u001b[39m:]\n\u001b[0;32m--> 311\u001b[0m \u001b[39myield from\u001b[39;00m \u001b[39mself\u001b[39;49m\u001b[39m.\u001b[39;49m_plot_args(\n\u001b[1;32m    312\u001b[0m     this, kwargs, ambiguous_fmt_datakey\u001b[39m=\u001b[39;49mambiguous_fmt_datakey)\n",
      "File \u001b[0;32m~/.local/lib/python3.8/site-packages/matplotlib/axes/_base.py:530\u001b[0m, in \u001b[0;36m_process_plot_var_args._plot_args\u001b[0;34m(self, tup, kwargs, return_kwargs, ambiguous_fmt_datakey)\u001b[0m\n\u001b[1;32m    528\u001b[0m \u001b[39mif\u001b[39;00m n_datasets \u001b[39m>\u001b[39m \u001b[39m1\u001b[39m \u001b[39mand\u001b[39;00m \u001b[39mnot\u001b[39;00m cbook\u001b[39m.\u001b[39mis_scalar_or_string(label):\n\u001b[1;32m    529\u001b[0m     \u001b[39mif\u001b[39;00m \u001b[39mlen\u001b[39m(label) \u001b[39m!=\u001b[39m n_datasets:\n\u001b[0;32m--> 530\u001b[0m         \u001b[39mraise\u001b[39;00m \u001b[39mValueError\u001b[39;00m(\u001b[39mf\u001b[39m\u001b[39m\"\u001b[39m\u001b[39mlabel must be scalar or have the same \u001b[39m\u001b[39m\"\u001b[39m\n\u001b[1;32m    531\u001b[0m                          \u001b[39mf\u001b[39m\u001b[39m\"\u001b[39m\u001b[39mlength as the input data, but found \u001b[39m\u001b[39m\"\u001b[39m\n\u001b[1;32m    532\u001b[0m                          \u001b[39mf\u001b[39m\u001b[39m\"\u001b[39m\u001b[39m{\u001b[39;00m\u001b[39mlen\u001b[39m(label)\u001b[39m}\u001b[39;00m\u001b[39m for \u001b[39m\u001b[39m{\u001b[39;00mn_datasets\u001b[39m}\u001b[39;00m\u001b[39m datasets.\u001b[39m\u001b[39m\"\u001b[39m)\n\u001b[1;32m    533\u001b[0m     labels \u001b[39m=\u001b[39m label\n\u001b[1;32m    534\u001b[0m \u001b[39melse\u001b[39;00m:\n",
      "\u001b[0;31mValueError\u001b[0m: label must be scalar or have the same length as the input data, but found 1024 for 128 datasets."
     ]
    },
    {
     "data": {
      "image/png": "[encoded data removed]",
      "text/plain": [
       "<Figure size 2000x300 with 1 Axes>"
      ]
     },
     "metadata": {},
     "output_type": "display_data"
    }
   ],
   "source": [
    "class SinusoidalPositionEmbeddings(nn.Module):\n",
    "    def __init__(self, dim):\n",
    "        super().__init__()\n",
    "        self.dim = dim\n",
    "        \n",
    "    def embed(self, p, dim):\n",
    "        half_dim = dim // 2\n",
    "        embeddings = torch.log(torch.tensor(self.dim//16)) / (half_dim - 1)\n",
    "        embeddings = torch.exp(torch.arange(half_dim, device=p.device) * -embeddings)\n",
    "        embeddings = p[:, None] * embeddings[None, :]\n",
    "        embeddings = torch.cat((embeddings.sin(), embeddings.cos()), dim=-1)\n",
    "        return embeddings\n",
    "\n",
    "    def forward(self, p_x, p_y):\n",
    "        half_dim = self.dim // 2\n",
    "        embeddings_x = self.embed(p_x, half_dim)\n",
    "        embeddings_y = self.embed(p_y, half_dim)\n",
    "        embeddings = torch.cat((embeddings_x, embeddings_y), dim=-1)\n",
    "        return embeddings\n",
    "\n",
    "\n",
    "\n",
    "img_size = 1024\n",
    "patch_size = 32\n",
    "patches_in_row = img_size//patch_size\n",
    "n_patches = (patches_in_row) ** 2\n",
    "\n",
    "p_x = torch.arange(patches_in_row)\n",
    "p_y = torch.arange(patches_in_row)\n",
    "poses = torch.cartesian_prod(p_x, p_y)\n",
    "\n",
    "sembed = SinusoidalPositionEmbeddings(dim=128)\n",
    "pos_embedding = sembed(poses[:,0], poses[:,1])\n",
    "print(f\"pos_embedding: {pos_embedding.shape}\")\n",
    "\n",
    "labels = []\n",
    "for i, j in poses:\n",
    "    labels.append(f\"({i}, {j})\")\n",
    "\n",
    "plt.figure(figsize=(20, 3))\n",
    "plt.plot(pos_embedding, label=labels)\n",
    "# plt.legend()\n",
    "\n",
    "# plt.imshow(res)\n",
    "None"
   ]
  },
  {
   "cell_type": "code",
   "execution_count": 100,
   "metadata": {},
   "outputs": [],
   "source": [
    "class PatchEmbedding(nn.Module):\n",
    "    def __init__(\n",
    "        self, \n",
    "        patch_size: Tuple[int, int],\n",
    "        latent_size: int,\n",
    "        hw_size: Tuple[int, int],\n",
    "        n_channel: int,\n",
    "        batch_size: int,\n",
    "        device: torch.device.type,\n",
    "        *args, **kwargs\n",
    "    ) -> None:\n",
    "        super().__init__(*args, **kwargs)\n",
    "        \n",
    "        self.patch_size = patch_size\n",
    "        \n",
    "        self.linear_projection = nn.Linear(patch_size[0]*patch_size[1]*n_channel, latent_size)\n",
    "        self.segment_token = nn.Parameter(torch.randn(batch_size, 1, latent_size), requires_grad=True).to(device)\n",
    "        \n",
    "        p_r = torch.arange(1, hw_size[0]//patch_size[0]+1)\n",
    "        p_c = torch.arange(1, hw_size[1]//patch_size[1]+1)\n",
    "        poses = torch.cartesian_prod(p_r, p_c)+1\n",
    "        poses = torch.concat([torch.zeros((1, 2)), poses], dim=0)\n",
    "        sembed = SinusoidalPositionEmbeddings(dim=latent_size)\n",
    "        self.pos_embedding = sembed(poses[:,0], poses[:,1]).to(device)\n",
    "        \n",
    "    def forward(self, x):\n",
    "        patches = einops.rearrange(\n",
    "            x, \n",
    "            \"b c (h h1) (w w1) -> b (h w) (h1 w1 c)\", \n",
    "            h1=self.patch_size[0], w1=self.patch_size[1]\n",
    "        )\n",
    "        projected_patches = self.linear_projection(patches)\n",
    "        x = torch.concat([self.segment_token, projected_patches], dim=1)\n",
    "        pos_embedding = einops.repeat(self.pos_embedding, \"p d -> b p d\", b=x.shape[0])\n",
    "        \n",
    "        print(x.shape, pos_embedding.shape)\n",
    "        x += pos_embedding\n",
    "        return x"
   ]
  },
  {
   "cell_type": "code",
   "execution_count": 101,
   "metadata": {},
   "outputs": [
    {
     "name": "stdout",
     "output_type": "stream",
     "text": [
      "torch.Size([8, 1025, 64]) torch.Size([8, 1025, 64])\n",
      "input shape: torch.Size([8, 3, 1024, 1024]), output shape: torch.Size([8, 1025, 64])\n"
     ]
    }
   ],
   "source": [
    "x = torch.randn(size=(8, 3, 1024, 1024))\n",
    "\n",
    "embedder = PatchEmbedding(\n",
    "    patch_size=(32, 32),\n",
    "    latent_size = 64,\n",
    "    hw_size = (1024, 1024),\n",
    "    n_channel = 3,\n",
    "    batch_size = 8,\n",
    "    device = \"cpu\"\n",
    ")\n",
    "\n",
    "y = embedder(x)\n",
    "\n",
    "print(f\"input shape: {x.shape}, output shape: {y.shape}\")"
   ]
  },
  {
   "cell_type": "code",
   "execution_count": 99,
   "metadata": {},
   "outputs": [
    {
     "data": {
      "text/plain": [
       "tensor([[0., 0.]])"
      ]
     },
     "execution_count": 99,
     "metadata": {},
     "output_type": "execute_result"
    }
   ],
   "source": [
    "torch.zeros((1, 2))"
   ]
  },
  {
   "cell_type": "code",
   "execution_count": null,
   "metadata": {},
   "outputs": [],
   "source": []
  },
  {
   "cell_type": "code",
   "execution_count": null,
   "metadata": {},
   "outputs": [],
   "source": []
  }
 ],
 "metadata": {
  "kernelspec": {
   "display_name": "Python 3",
   "language": "python",
   "name": "python3"
  },
  "language_info": {
   "codemirror_mode": {
    "name": "ipython",
    "version": 3
   },
   "file_extension": ".py",
   "mimetype": "text/x-python",
   "name": "python",
   "nbconvert_exporter": "python",
   "pygments_lexer": "ipython3",
   "version": "3.8.10"
  },
  "orig_nbformat": 4
 },
 "nbformat": 4,
 "nbformat_minor": 2
}
